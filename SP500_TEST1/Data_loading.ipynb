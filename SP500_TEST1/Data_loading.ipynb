{
 "cells": [
  {
   "cell_type": "code",
   "execution_count": 4,
   "id": "6e054506-f5c7-4f2d-9be1-a3f5b7c06fbd",
   "metadata": {},
   "outputs": [
    {
     "name": "stderr",
     "output_type": "stream",
     "text": [
      "[*********************100%***********************]  1 of 1 completed"
     ]
    },
    {
     "name": "stdout",
     "output_type": "stream",
     "text": [
      "S&P 500 数据已成功保存为 sp500_data.csv\n"
     ]
    },
    {
     "name": "stderr",
     "output_type": "stream",
     "text": [
      "\n"
     ]
    }
   ],
   "source": [
    "import yfinance as yf\n",
    "\n",
    "sp500 = yf.download('^GSPC', start='2000-01-01', end='2024-01-01')\n",
    "\n",
    "\n",
    "sp500.reset_index(inplace=True)\n",
    "\n",
    "sp500.to_csv(\"sp500_data.csv\", index=False)\n",
    "\n",
    "print(\"S&P 500 Data saved as sp500_data.csv\")\n"
   ]
  },
  {
   "cell_type": "code",
   "execution_count": 5,
   "id": "9df40250-5793-4bf1-9e60-926c8e33a6e8",
   "metadata": {},
   "outputs": [
    {
     "name": "stderr",
     "output_type": "stream",
     "text": [
      "[*********************100%***********************]  503 of 503 completed\n",
      "\n",
      "5 Failed downloads:\n",
      "['BF.B']: YFPricesMissingError('$%ticker%: possibly delisted; no price data found  (1d 2010-01-01 -> 2024-01-01)')\n",
      "['SOLV', 'GEV', 'SW']: YFPricesMissingError('$%ticker%: possibly delisted; no price data found  (1d 2010-01-01 -> 2024-01-01) (Yahoo error = \"Data doesn\\'t exist for startDate = 1262322000, endDate = 1704085200\")')\n",
      "['BRK.B']: YFTzMissingError('$%ticker%: possibly delisted; no timezone found')\n"
     ]
    },
    {
     "name": "stdout",
     "output_type": "stream",
     "text": [
      "S&P 500 成分股数据已保存为 sp500_stocks_data.csv\n"
     ]
    }
   ],
   "source": [
    "import yfinance as yf\n",
    "import pandas as pd\n",
    "\n",
    "wiki_url = \"https://en.wikipedia.org/wiki/List_of_S%26P_500_companies\"\n",
    "sp500_table = pd.read_html(wiki_url)\n",
    "sp500_tickers = sp500_table[0][\"Symbol\"].tolist()  \n",
    "\n",
    "# 下载 S&P 500 成分股的历史数据\n",
    "sp500_data = yf.download(sp500_tickers, start=\"2010-01-01\", end=\"2024-01-01\", group_by=\"ticker\")\n",
    "\n",
    "# 保存数据为 CSV 文件\n",
    "file_path = \"sp500_stocks_data.csv\"\n",
    "sp500_data.to_csv(file_path)\n",
    "\n",
    "print(f\"S&P 500 data saved as {file_path}\")\n"
   ]
  },
  {
   "cell_type": "code",
   "execution_count": null,
   "id": "277d2e82-a968-4f86-8f79-77b58dac7efe",
   "metadata": {},
   "outputs": [],
   "source": []
  }
 ],
 "metadata": {
  "kernelspec": {
   "display_name": "Python 3 (ipykernel)",
   "language": "python",
   "name": "python3"
  },
  "language_info": {
   "codemirror_mode": {
    "name": "ipython",
    "version": 3
   },
   "file_extension": ".py",
   "mimetype": "text/x-python",
   "name": "python",
   "nbconvert_exporter": "python",
   "pygments_lexer": "ipython3",
   "version": "3.12.4"
  }
 },
 "nbformat": 4,
 "nbformat_minor": 5
}
